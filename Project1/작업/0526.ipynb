{
 "cells": [
  {
   "cell_type": "code",
   "execution_count": null,
   "metadata": {},
   "outputs": [],
   "source": [
    "import numpy as np\n",
    "import pandas as pd\n",
    "import matplotlib.pyplot as plt\n",
    "import seaborn as sns\n",
    "\n",
    "womandata = pd.read_csv(\"C:/BigData/work/R_Project/ch011/woman_households.csv\", encoding=\"euc-kr\")\n",
    "# 위에서는 r로 시작하는 원시(raw) 문자열을 사용한 것에 유의하세요.\n",
    "womandata\n",
    "# csv 파일을 pandas의 데이터 프레임으로 불러오려면 pd.read_csv()"
   ]
  },
  {
   "cell_type": "code",
   "execution_count": null,
   "metadata": {},
   "outputs": [],
   "source": [
    "womandata.notnull().sum()"
   ]
  },
  {
   "cell_type": "code",
   "execution_count": null,
   "metadata": {},
   "outputs": [],
   "source": [
    "womandata.rename(columns = {'주택(거처)의 종류.1':'단독주택', '주택(거처)의 종류.2':'아파트',\n",
    "                            '주택(거처)의 종류.3':'연립주택', '주택(거처)의 종류.4':'다세대주택',\n",
    "                            '주택(거처)의 종류.5':'비거주용 건물내 주택'\n",
    "                            }, inplace=True) # 보기 힘드니까 열 이름들을 제대로 바꿔줌 (csv로 바꾸면서 틀어진거)\n",
    "womandata"
   ]
  },
  {
   "cell_type": "code",
   "execution_count": 23,
   "metadata": {},
   "outputs": [],
   "source": [
    "womandata = womandata.loc[womandata[\"성별\"]==\"여자\", [\"자치구\", \"성별\", \"합계\", \"단독주택\", \"아파트\", \"연립주택\",\n",
    "                                      \"다세대주택\", \"비거주용 건물내 주택\", \"주택이외의 거처\"]]\n",
    "# loc를 써서 필요한 행과 열만 추출, 행에선 여자인 행만 추출하고 열에선 필요한 열을\n",
    "\n",
    "womandata\n",
    "womandata.to_csv('실습결과.csv', index=False, encoding=\"euc-kr\")\n",
    "# 앞에 숫자가 index인데 이걸 false로 하고 저장함, encoding euc-kr로 하면 깨지지 않음"
   ]
  },
  {
   "cell_type": "code",
   "execution_count": null,
   "metadata": {},
   "outputs": [],
   "source": [
    "womandata.insert(9,'면적', [605.23, 23.91, 9.96, 21.87, 16.86, 17.06, 14.22,\n",
    "                         18.5, 24.58, 23.6, 20.65, 35.44, 29.71, 17.63, 23.85, 17.41,\n",
    "                         41.44, 20.12, 13.02, 24.55, 16.35, 29.57, 46.98, 39.5, 33.87, 24.59])\n",
    "\n",
    "# 9번째 열에 추가하기\n",
    "womandata"
   ]
  },
  {
   "cell_type": "code",
   "execution_count": null,
   "metadata": {},
   "outputs": [],
   "source": [
    "# womandata.info() # 타입확인\n",
    "womandata.dtypes # 데이터프레임 타입확인\n",
    "\n",
    "# test = womandata['합계'] / womandata['면적'] 형때문에안됨"
   ]
  },
  {
   "cell_type": "code",
   "execution_count": null,
   "metadata": {},
   "outputs": [],
   "source": [
    "womandata['합계']= womandata['합계'].str.replace(pat=r'[^\\w]',repl=r'',regex=True)\n",
    "womandata['합계'] #특수문자 제거해주기"
   ]
  },
  {
   "cell_type": "code",
   "execution_count": 52,
   "metadata": {},
   "outputs": [],
   "source": [
    "womandata = womandata.astype({'합계':'float64'}) # 타입 변환"
   ]
  },
  {
   "cell_type": "code",
   "execution_count": null,
   "metadata": {},
   "outputs": [],
   "source": [
    "womandata.info()"
   ]
  },
  {
   "cell_type": "code",
   "execution_count": null,
   "metadata": {},
   "outputs": [],
   "source": [
    "test = womandata['합계'] / womandata['면적']\n",
    "# round(test,2) # 소수점 2자리까지만 출력\n",
    "test = round(test)\n",
    "test"
   ]
  },
  {
   "cell_type": "code",
   "execution_count": null,
   "metadata": {},
   "outputs": [],
   "source": [
    "test = test.astype('int') # 타입 변환\n",
    "test.dtypes"
   ]
  },
  {
   "cell_type": "code",
   "execution_count": null,
   "metadata": {},
   "outputs": [],
   "source": [
    "# test = test.split(\"\")\n",
    "# print(test[1])\n",
    "# 문자열일때 쪼개기\n",
    "\n",
    "# test[0:4]\n",
    "# float 때문에 .0 이 나오는 문제여서 전부 주석처리"
   ]
  },
  {
   "cell_type": "code",
   "execution_count": 56,
   "metadata": {},
   "outputs": [],
   "source": [
    "# test.columns = ['면적당 1인 가구 수']\n",
    "# test\n",
    "# 안되어서 직접 합치고 바꿈...\n",
    "\n",
    "# test[\"C\"] = np.nan # 새 열 추가하고 이름 바꾸려고 했으나 행이 추가됨 ㅠㅠ.."
   ]
  },
  {
   "cell_type": "code",
   "execution_count": null,
   "metadata": {},
   "outputs": [],
   "source": [
    "# womandata.insert(10,'면적당 1인 가구 수', [1222.18, 557.09 ,1184.44,\n",
    "#                 914.54, 1287.72, 1918.58, 2157.95, 1542.54, 1394.67, 1047.75, 941.69,\n",
    "#                 923.73, 1098.35, 1616.79, 1505.58, 1227.91, 1134.99, 1286.58, 1496.70, 1299.43,\n",
    "#                 2065.69, 2082.11, 527.88, 1001.34, 1204.72, 1077.63])\n",
    "# # 인덱스 제거하고 따로 붙여넣는 방법이 없어서 복사해서 그냥 했음\n",
    "\n",
    "womandata = pd.concat([womandata, test], axis=1) # axis=1이 없으면 NaN 값으로 나옴\n",
    "womandata"
   ]
  },
  {
   "cell_type": "code",
   "execution_count": null,
   "metadata": {},
   "outputs": [],
   "source": [
    "womandata = womandata.rename(columns = {0:'면적당 1인 가구 수'}) \n",
    "womandata"
   ]
  },
  {
   "cell_type": "code",
   "execution_count": null,
   "metadata": {},
   "outputs": [],
   "source": [
    "# womandata.info()  # float끼리 나눴으니 float타입\n",
    "\n",
    "end = womandata[[\"자치구\", \"면적당 1인 가구 수\"]]\n",
    "end"
   ]
  },
  {
   "cell_type": "code",
   "execution_count": null,
   "metadata": {},
   "outputs": [],
   "source": [
    "end.rename(columns = {'자치구':'District', '면적당 1인 가구 수':'Onepersonhouseholds',}, inplace=True)\n",
    "# true 안붙이면 복사본이 생성됨\n",
    "end"
   ]
  },
  {
   "cell_type": "code",
   "execution_count": null,
   "metadata": {},
   "outputs": [],
   "source": [
    "end = end.drop(index=[3]) # index 3인 합계를 지움\n",
    "end"
   ]
  },
  {
   "cell_type": "code",
   "execution_count": null,
   "metadata": {},
   "outputs": [],
   "source": [
    "end = end.sort_values('District', ascending=True) # 지역이름인 ㄱㄴㄷ 순으로 정렬해줌\n",
    "end"
   ]
  },
  {
   "cell_type": "code",
   "execution_count": null,
   "metadata": {},
   "outputs": [],
   "source": [
    "end.to_csv('Oneperson.csv', index=False, encoding=\"euc-kr\") # 변수이름 수정하기"
   ]
  },
  {
   "cell_type": "code",
   "execution_count": null,
   "metadata": {},
   "outputs": [],
   "source": []
  },
  {
   "cell_type": "code",
   "execution_count": 119,
   "metadata": {},
   "outputs": [
    {
     "data": {
      "text/plain": [
       "[<matplotlib.lines.Line2D at 0x1f1b5b3be80>]"
      ]
     },
     "execution_count": 119,
     "metadata": {},
     "output_type": "execute_result"
    },
    {
     "data": {
      "image/png": "[encoded data removed]",
      "text/plain": [
       "<Figure size 432x288 with 1 Axes>"
      ]
     },
     "metadata": {
      "needs_background": "light"
     },
     "output_type": "display_data"
    }
   ],
   "source": [
    "plt.plot(womandata['합계'], womandata['단독주택'])"
   ]
  },
  {
   "cell_type": "code",
   "execution_count": 123,
   "metadata": {},
   "outputs": [
    {
     "data": {
      "image/png": "[encoded data removed]",
      "text/plain": [
       "<Figure size 432x288 with 1 Axes>"
      ]
     },
     "metadata": {
      "needs_background": "light"
     },
     "output_type": "display_data"
    }
   ],
   "source": [
    "x = np.arange(len(womandata[\"단독주택\"]))\n",
    "plt.bar(x,womandata[\"합계\"], color = 'yellow', align='edge', edgecolor='red', width=0.8,\n",
    "        linewidth=3, tick_label=womandata[\"단독주택\"])\n",
    "plt.show()"
   ]
  },
  {
   "cell_type": "code",
   "execution_count": 126,
   "metadata": {},
   "outputs": [
    {
     "data": {
      "image/png": "[encoded data removed]",
      "text/plain": [
       "<Figure size 432x288 with 1 Axes>"
      ]
     },
     "metadata": {
      "needs_background": "light"
     },
     "output_type": "display_data"
    }
   ],
   "source": [
    "# 한글 폰트 사용을 위해서 세팅\n",
    "from matplotlib import font_manager, rc\n",
    "font_path = \"C:/Windows/Fonts/micross.TTF\"\n",
    "font = font_manager.FontProperties(fname=font_path).get_name()\n",
    "rc('font', family=font)\n",
    "\n",
    "plt.scatter([0, 1, 2, 3, 4, 5], [0, 1, 2, 3, 4, 5])\n",
    "plt.title('산점도')\n",
    "plt.xlabel('변수1')\n",
    "plt.ylabel('변수2')\n",
    "plt.grid(True)\n",
    "plt.show()\n"
   ]
  }
 ],
 "metadata": {
  "interpreter": {
   "hash": "3651c03faa4cdbc43f5defad6aace74601a6f979718a08b00fcec3ed71d4684e"
  },
  "kernelspec": {
   "display_name": "Python 3.9.7 ('base')",
   "language": "python",
   "name": "python3"
  },
  "language_info": {
   "codemirror_mode": {
    "name": "ipython",
    "version": 3
   },
   "file_extension": ".py",
   "mimetype": "text/x-python",
   "name": "python",
   "nbconvert_exporter": "python",
   "pygments_lexer": "ipython3",
   "version": "3.9.7"
  },
  "orig_nbformat": 4
 },
 "nbformat": 4,
 "nbformat_minor": 2
}
